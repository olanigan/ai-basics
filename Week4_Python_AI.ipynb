{
  "nbformat": 4,
  "nbformat_minor": 0,
  "metadata": {
    "colab": {
      "provenance": [],
      "authorship_tag": "ABX9TyP5AuA5xeQ5d5QhfSSve0dj",
      "include_colab_link": true
    },
    "kernelspec": {
      "name": "python3",
      "display_name": "Python 3"
    },
    "language_info": {
      "name": "python"
    }
  },
  "cells": [
    {
      "cell_type": "markdown",
      "metadata": {
        "id": "view-in-github",
        "colab_type": "text"
      },
      "source": [
        "<a href=\"https://colab.research.google.com/github/olanigan/ai-basics/blob/main/Week4_Python_AI.ipynb\" target=\"_parent\"><img src=\"https://colab.research.google.com/assets/colab-badge.svg\" alt=\"Open In Colab\"/></a>"
      ]
    },
    {
      "cell_type": "markdown",
      "source": [
        "## Python\n",
        "\n",
        "1. Runtime Environment\n",
        "\n",
        "Native VENV, Conda, uv (Rust)\n",
        "\n",
        "STANDARD: https://docs.astral.sh/uv/\n",
        "\n",
        "```\n",
        "\n",
        "```\n",
        "\n"
      ],
      "metadata": {
        "id": "QPcxv7LX3gY-"
      }
    },
    {
      "cell_type": "code",
      "execution_count": 5,
      "metadata": {
        "id": "OY09IWwu1Dap"
      },
      "outputs": [],
      "source": [
        "f = open(\"email.txt\", \"r\")"
      ]
    },
    {
      "cell_type": "code",
      "source": [
        "## Bash command\n",
        "!echo \"Salam Alaykum, Good Morning. Wake Up!!\" >> email.txt"
      ],
      "metadata": {
        "id": "Ycda-KE81QU4"
      },
      "execution_count": 4,
      "outputs": []
    },
    {
      "cell_type": "code",
      "source": [
        "%%writefile helper_functions.py\n",
        "#import gradio as gr\n",
        "import os\n",
        "\n",
        "from openai import OpenAI\n",
        "from dotenv import load_dotenv\n",
        "import csv\n",
        "\n",
        "# Get the OpenAI API key from the .env file\n",
        "load_dotenv('.env', override=True)\n",
        "openai_api_key = os.getenv('OPENAI_API_KEY')\n",
        "\n",
        "# Set up the OpenAI client\n",
        "client = OpenAI(api_key=openai_api_key)\n",
        "\n",
        "\n",
        "def read_csv_dict(csv_file_path):\n",
        "    \"\"\"This function takes a csv file and loads it as a dict.\"\"\"\n",
        "\n",
        "    # Initialize an empty list to store the data\n",
        "    data_list = []\n",
        "\n",
        "    # Open the CSV file\n",
        "    with open(csv_file_path, mode='r') as file:\n",
        "        # Create a CSV reader object\n",
        "        csv_reader = csv.DictReader(file)\n",
        "\n",
        "        # Iterate over each row in the CSV file\n",
        "        for row in csv_reader:\n",
        "            # Append the row to the data list\n",
        "            data_list.append(row)\n",
        "\n",
        "    # Convert the list to a dictionary\n",
        "    data_dict = {i: data_list[i] for i in range(len(data_list))}\n",
        "    return data_dict\n",
        "\n",
        "\n",
        "def print_llm_response(prompt):\n",
        "    \"\"\"This function takes as input a prompt, which must be a string enclosed in quotation marks,\n",
        "    and passes it to OpenAI's GPT3.5 model. The function then prints the response of the model.\n",
        "    \"\"\"\n",
        "    try:\n",
        "        if not isinstance(prompt, str):\n",
        "            raise ValueError(\"Input must be a string enclosed in quotes.\")\n",
        "        completion = client.chat.completions.create(\n",
        "            model=\"gpt-4o-mini\",\n",
        "            messages=[\n",
        "                {\n",
        "                    \"role\": \"system\",\n",
        "                    \"content\": \"You are a helpful but terse AI assistant who gets straight to the point.\",\n",
        "                },\n",
        "                {\"role\": \"user\", \"content\": prompt},\n",
        "            ],\n",
        "            temperature=0.0,\n",
        "        )\n",
        "        response = completion.choices[0].message.content\n",
        "        print(response)\n",
        "    except TypeError as e:\n",
        "        print(\"Error:\", str(e))\n",
        "\n",
        "\n",
        "def get_llm_response(prompt):\n",
        "    \"\"\"This function takes as input a prompt, which must be a string enclosed in quotation marks,\n",
        "    and passes it to OpenAI's GPT3.5 model. The function then saves the response of the model as\n",
        "    a string.\n",
        "    \"\"\"\n",
        "    completion = client.chat.completions.create(\n",
        "        model=\"gpt-4o-mini\",\n",
        "        messages=[\n",
        "            {\n",
        "                \"role\": \"system\",\n",
        "                \"content\": \"You are a helpful but terse AI assistant who gets straight to the point.\",\n",
        "            },\n",
        "            {\"role\": \"user\", \"content\": prompt},\n",
        "        ],\n",
        "        temperature=0.0,\n",
        "    )\n",
        "    response = completion.choices[0].message.content\n",
        "    return response\n",
        "\n",
        "\n",
        "def get_chat_completion(prompt, history):\n",
        "    history_string = \"\\n\\n\".join([\"\\n\".join(turn) for turn in history])\n",
        "    prompt_with_history = f\"{history_string}\\n\\n{prompt}\"\n",
        "    completion = client.chat.completions.create(\n",
        "        model=\"gpt-3.5-turbo-0125\",\n",
        "        messages=[\n",
        "            {\n",
        "                \"role\": \"system\",\n",
        "                \"content\": \"You are a helpful but terse AI assistant who gets straight to the point.\",\n",
        "            },\n",
        "            {\"role\": \"user\", \"content\": prompt_with_history},\n",
        "        ],\n",
        "        temperature=0.0,\n",
        "    )\n",
        "    response = completion.choices[0].message.content\n",
        "    return response\n",
        "​"
      ],
      "metadata": {
        "colab": {
          "base_uri": "https://localhost:8080/"
        },
        "id": "HlzEU5FK3PGW",
        "outputId": "dd30d1f1-9aae-49eb-b498-1df2b9984b1b"
      },
      "execution_count": 6,
      "outputs": [
        {
          "output_type": "stream",
          "name": "stdout",
          "text": [
            "Writing helper_functions.py\n"
          ]
        }
      ]
    },
    {
      "cell_type": "code",
      "source": [],
      "metadata": {
        "id": "xs-p_VQj3UWM"
      },
      "execution_count": null,
      "outputs": []
    }
  ]
}